{
 "cells":[
  {
   "cell_type":"markdown",
   "source":[
    "# Pao Ying Chub Game"
   ],
   "attachments":{
    
   },
   "metadata":{
    "datalore":{
     "node_id":"Pao Ying Chub Game",
     "type":"MD",
     "hide_input_from_viewers":false,
     "hide_output_from_viewers":false,
     "sheet_delimiter":true
    }
   }
  },
  {
   "cell_type":"markdown",
   "source":[
    "# **Pao Ying Chub Game**"
   ],
   "attachments":{
    
   },
   "metadata":{
    "datalore":{
     "node_id":"PcHuh1F510oqnvts54NM3C",
     "type":"MD",
     "hide_input_from_viewers":false,
     "hide_output_from_viewers":false,
     "report_properties":{
      
     }
    }
   }
  },
  {
   "cell_type":"code",
   "source":[
    "import random #use to random number"
   ],
   "execution_count":null,
   "outputs":[
    
   ],
   "metadata":{
    "datalore":{
     "node_id":"EVUquWKIiiaei9wRDQJKKG",
     "type":"CODE",
     "hide_input_from_viewers":false,
     "hide_output_from_viewers":false,
     "report_properties":{
      
     }
    }
   }
  },
  {
   "cell_type":"code",
   "source":[
    "# define function to validate selected choice\n",
    "def validate_selected(selected: int) -> bool:\n",
    "    if 1<= selected <= 3:\n",
    "        return True\n",
    "    else:\n",
    "        return False"
   ],
   "execution_count":null,
   "outputs":[
    
   ],
   "metadata":{
    "datalore":{
     "node_id":"6JFtjL2gT7e5ApOrRKfooQ",
     "type":"CODE",
     "hide_input_from_viewers":false,
     "hide_output_from_viewers":false,
     "report_properties":{
      
     }
    }
   }
  },
  {
   "cell_type":"code",
   "source":[
    "print(\"+!+!+!+!+Welcome to  Pao Ying Chub Game +!+!+!+!+\")\n",
    "player_name =  input(\"what's your name ? \")\n",
    "print(f\"Hello !___{player_name}___\")\n",
    "ans = input(\"Are you ready to play ? (Y\/N) \")\n",
    "if ans == 'Y':\n",
    "    #declare valiable\n",
    "    n_round = 0\n",
    "    win  = 0\n",
    "    loss = 0\n",
    "    same = 0\n",
    "    player_selected = 0\n",
    "    choice = {\n",
    "        \"name\":[\"Paper\",\"Scissors\",\"Rock\"],\n",
    "        \"value\": [1,2,3]\n",
    "     }\n",
    "    while ans == 'Y':\n",
    "        n_round += 1\n",
    "        print(\">>>>> Your choices: <<<<<\")\n",
    "        i = 0\n",
    "        while i<= len(choice['name']) - 1 :\n",
    "            print(f\"{i+1}. {choice['name'][i]}\")\n",
    "            i+=1\n",
    "        valid_selected = False\n",
    "        while not valid_selected:\n",
    "            player_selected = int(input(\">>>>> Please select one:(1\/2\/3) \"))\n",
    "            valid_selected = validate_selected(player_selected)\n",
    "        # bot think\n",
    "        bot_selected = random.randint(1, 3)\n",
    "       # print(f\"Bot select: {bot_selected}\")\n",
    "        if bot_selected == player_selected:\n",
    "            same += 1\n",
    "            print(\"You Same !\")\n",
    "        else:\n",
    "            if player_selected == 3:\n",
    "                if bot_selected == 1:\n",
    "                    loss += loss +1\n",
    "                    print(\"You Loss !\")\n",
    "                else:\n",
    "                    win += win +1\n",
    "                    print(\"You Win !\")\n",
    "            elif player_selected == 2:\n",
    "                if bot_selected == 1:\n",
    "                    win += 1\n",
    "                    print(\"You Win !\")\n",
    "                else:\n",
    "                    loss += 1\n",
    "                    print(\"You Loss !\")\n",
    "            else:\n",
    "                if bot_selected == 2:\n",
    "                    loss += 1 \n",
    "                    print(\"You Loss !\")\n",
    "                else:\n",
    "                    win += 1\n",
    "                    print(\"You Win !\")\n",
    "        ans = input(\"Do you want to play again ? Y\/N\")\n",
    "    #sum score\n",
    "    print(\"|------------Sumarize Your Score---------------|\")\n",
    "    print(f\"|     You play: {n_round}                            |\")\n",
    "    print(f\"|         win: {win}                            |\")\n",
    "    print(f\"|         loss: {loss}                           |\")\n",
    "    print(f\"|         same: {same}                          |\")\n",
    "    print(\"|---------------------------------------------|\")\n",
    "else:\n",
    "    print(f\"Bye {player_name}, see you again\")"
   ],
   "execution_count":null,
   "outputs":[
    {
     "name":"stdout",
     "text":[
      "+!+!+!+!+Welcome to  Pao Ying Chub Game +!+!+!+!+\n",
      "what's your name ?  Mo\n",
      "Hello !___Mo___\n",
      "Are you ready to play ? (Y\/N)  Y\n",
      ">>>>> Your choices: <<<<<\n",
      "1. Paper\n",
      "2. Scissors\n",
      "3. Rock\n",
      ">>>>> Please select one:(1\/2\/3)  2\n",
      "You Same !\n",
      "Do you want to play again ? Y\/N Y\n",
      ">>>>> Your choices: <<<<<\n",
      "1. Paper\n",
      "2. Scissors\n",
      "3. Rock\n",
      ">>>>> Please select one:(1\/2\/3)  3\n",
      "You Same !\n",
      "Do you want to play again ? Y\/N Y\n",
      ">>>>> Your choices: <<<<<\n",
      "1. Paper\n",
      "2. Scissors\n",
      "3. Rock\n",
      ">>>>> Please select one:(1\/2\/3)  2\n",
      "You Win !\n",
      "Do you want to play again ? Y\/N N\n",
      "|------------Sumarize Your Score---------------|\n",
      "|     You play: 3                            |\n",
      "|         win: 1                            |\n",
      "|         loss: 0                           |\n",
      "|         same: 2                          |\n",
      "|---------------------------------------------|\n"
     ],
     "output_type":"stream"
    }
   ],
   "metadata":{
    "datalore":{
     "node_id":"tmlsm27irIvDyUJERwReZa",
     "type":"CODE",
     "hide_input_from_viewers":false,
     "hide_output_from_viewers":false,
     "report_properties":{
      
     }
    }
   }
  },
  {
   "cell_type":"markdown",
   "source":[
    "# ATM"
   ],
   "attachments":{
    
   },
   "metadata":{
    "datalore":{
     "node_id":"ATM",
     "type":"MD",
     "hide_input_from_viewers":false,
     "hide_output_from_viewers":false,
     "sheet_delimiter":true
    }
   }
  },
  {
   "cell_type":"markdown",
   "source":[
    "# **ATM**\n",
    "**To define ATM Class with functions:**\n",
    "* check_balance\n",
    "* debit\n",
    "* credit\n",
    "* payment\n",
    "* change_passwd\n",
    "* change_accountname\n",
    "* get_menu"
   ],
   "attachments":{
    
   },
   "metadata":{
    "datalore":{
     "node_id":"b8xXbLBEAJQAZAYa2hRlO2",
     "type":"MD",
     "hide_input_from_viewers":false,
     "hide_output_from_viewers":false,
     "report_properties":{
      
     }
    }
   }
  },
  {
   "cell_type":"code",
   "source":[
    "# define ATM Class\n",
    "class ATM:\n",
    "  def __init__(self,name,balance,username,passwd):\n",
    "    self.name = name\n",
    "    self.balance = balance\n",
    "    self.username = username\n",
    "    self.passwd = passwd\n",
    "  # Check balance\n",
    "  def check_balance(self):\n",
    "    print(\" ---------- Your Account Details ----------\")\n",
    "    message = f\"Account Name: {self.name} , Balance: {self.balance}\"\n",
    "    print(message)\n",
    "  # Withdraw\n",
    "  def withdraw(self):\n",
    "    print(\" ---------- Your withdraw transaction ----------\")\n",
    "    amount = int(input(\"Input withdraw amount: \"))\n",
    "    if self.balance < amount:\n",
    "      print(\"+++++ Withdraw unsuccessfully: insufficient +++++\")\n",
    "    else:\n",
    "      self.balance -= amount\n",
    "      print(\"+++++ Withdraw successfully +++++\")\n",
    "      print(f\"New Balance: {self.balance}\") \n",
    "  #Deposit\n",
    "  def deposit(self):\n",
    "    print(\" ---------- Your deposit transaction ----------\")\n",
    "    amount = int(input(\"Input deposit amount: \"))\n",
    "    self.balance += amount\n",
    "    print(\"Deposit successfully\")\n",
    "    print(f\"New Balance: {self.balance}\")\n",
    "  # Payment \n",
    "  def payment(self):\n",
    "    print(\" ---------- Your payment transaction ----------\")\n",
    "    bill_ref = input(\"Input Biller Ref: \")\n",
    "    amount = int(input(\"Input payment amount: \"))\n",
    "    if self.balance < amount: \n",
    "      print(f\"+++++ Payment to {bill_ref} unsuccessfully: insufficient +++++\")\n",
    "    else:\n",
    "        self.balance -= amount\n",
    "        print(f\"+++++ Payment to {bill_ref} successfully +++++\")\n",
    "        print(f\"New Balance: {self.balance}\")    \n",
    "  # Change Acct Aame\n",
    "  def change_acctname(self):\n",
    "    print(\" ---------- Change your account name ----------\")\n",
    "    new_acct_name = input(\"Input New Name: \")\n",
    "    self.name = new_acct_name\n",
    "    print(\"Your account name has been changed\")\n",
    "    print(f\"New Account Name: {self.name}\")\n",
    "  # Change Password\n",
    "  def change_passwd(self):\n",
    "    print(\" ---------- Change your password ----------\")\n",
    "    new_acct_name = input(\"Input New Password: \")\n",
    "    self.name = new_acct_name\n",
    "    print(\"Your Password has been changed\")\n",
    "  # Login\n",
    "  def login(self,username,password) -> bool:\n",
    "      if username ==  self.username and password == self.passwd:\n",
    "        return True\n",
    "      else:\n",
    "        return False\n",
    "  # Display Menu\n",
    "  def display_menu(self) -> str:\n",
    "      print(\">>>>>>> This is Your ATM menu: <<<<<<<\")\n",
    "      print(\"1. Check Balance\")\n",
    "      print(\"2. Deposit\")\n",
    "      print(\"3. Withdraw\")\n",
    "      print(\"4. Payment\")\n",
    "      print(\"5. Change Account Name\")\n",
    "      print(\"6. Change Password\")\n",
    "      return input(\">>>>> Please select menu (1,2,3,4,5,6): \")"
   ],
   "execution_count":null,
   "outputs":[
    
   ],
   "metadata":{
    "datalore":{
     "node_id":"NUmyHz0kux60GH9cjM4dax",
     "type":"CODE",
     "hide_input_from_viewers":false,
     "hide_output_from_viewers":false,
     "report_properties":{
      
     }
    }
   }
  },
  {
   "cell_type":"code",
   "source":[
    "# Main function\n",
    "print(\"+!+!+!+!+Welcome to  ATM  System+!+!+!+!+\")\n",
    "# initial ATM Obj\n",
    "my_atm = ATM(\"Mo\",1500,\"mousr\",\"P@sswd\")\n",
    "\n",
    "#login\n",
    "usr_name = input(\"Input Username: \")\n",
    "passwd = input(\"Input Password: \")\n",
    "if my_atm.login(usr_name,passwd):\n",
    "    ans = 'Y'\n",
    "    while ans == 'Y':\n",
    "        menu_selected = my_atm.display_menu()\n",
    "        if menu_selected == '1':\n",
    "            my_atm.check_balance()\n",
    "        elif menu_selected == '2':\n",
    "            my_atm.deposit()\n",
    "        elif menu_selected == '3':\n",
    "            my_atm.withdraw()\n",
    "        elif menu_selected == '4':\n",
    "            my_atm.payment()\n",
    "        elif menu_selected == '5':\n",
    "            my_atm.change_acctname()\n",
    "        elif menu_selected == '6':\n",
    "            my_atm.change_passwd()\n",
    "        else:\n",
    "            print(\"Your selected menu number is invalid !\")  \n",
    "        ans = input(\"Do you want to do next ? (Y\/N) \")\n",
    "else:\n",
    "    print(\"Your username or password is invalid\")\n",
    "print(\"+!+!+!+!+Bye ,See you again +!+!+!+!+\")"
   ],
   "execution_count":null,
   "outputs":[
    {
     "name":"stdout",
     "text":[
      "+!+!+!+!+Welcome to  ATM  System+!+!+!+!+\n",
      "Input Username:  mousr\n",
      "Input Password:  P@sswd\n",
      ">>>>>>> This is Your ATM menu: <<<<<<<\n",
      "1. Check Balance\n",
      "2. Deposit\n",
      "3. Withdraw\n",
      "4. Payment\n",
      "5. Change Account Name\n",
      "6. Change Password\n",
      ">>>>> Please select menu (1,2,3,4,5,6):  1\n",
      " ---------- Your Account Details ----------\n",
      "Account Name: Mo , Balance: 1500\n",
      "Do you want to do next ? (Y\/N)  Y\n",
      ">>>>>>> This is Your ATM menu: <<<<<<<\n",
      "1. Check Balance\n",
      "2. Deposit\n",
      "3. Withdraw\n",
      "4. Payment\n",
      "5. Change Account Name\n",
      "6. Change Password\n",
      ">>>>> Please select menu (1,2,3,4,5,6):  2\n",
      " ---------- Your deposit transaction ----------\n",
      "Input deposit amount:  1500\n",
      "Deposit successfully\n",
      "New Balance: 3000\n",
      "Do you want to do next ? (Y\/N)  Y\n",
      ">>>>>>> This is Your ATM menu: <<<<<<<\n",
      "1. Check Balance\n",
      "2. Deposit\n",
      "3. Withdraw\n",
      "4. Payment\n",
      "5. Change Account Name\n",
      "6. Change Password\n",
      ">>>>> Please select menu (1,2,3,4,5,6):  5\n",
      " ---------- Change your account name ----------\n",
      "Input New Name:  meme\n",
      "Your account name has been changed\n",
      "New Account Name: meme\n",
      "Do you want to do next ? (Y\/N)  Y\n",
      ">>>>>>> This is Your ATM menu: <<<<<<<\n",
      "1. Check Balance\n",
      "2. Deposit\n",
      "3. Withdraw\n",
      "4. Payment\n",
      "5. Change Account Name\n",
      "6. Change Password\n",
      ">>>>> Please select menu (1,2,3,4,5,6):  1\n",
      " ---------- Your Account Details ----------\n",
      "Account Name: meme , Balance: 3000\n",
      "Do you want to do next ? (Y\/N)  Y\n",
      ">>>>>>> This is Your ATM menu: <<<<<<<\n",
      "1. Check Balance\n",
      "2. Deposit\n",
      "3. Withdraw\n",
      "4. Payment\n",
      "5. Change Account Name\n",
      "6. Change Password\n",
      ">>>>> Please select menu (1,2,3,4,5,6):  4\n",
      " ---------- Your payment transaction ----------\n",
      "Input Biller Ref:  7878\n",
      "Input payment amount:  45500\n",
      "+++++ Payment to 7878 unsuccessfully: insufficient +++++\n",
      "Do you want to do next ? (Y\/N)  N\n",
      "+!+!+!+!+Bye ,See you again +!+!+!+!+\n"
     ],
     "output_type":"stream"
    }
   ],
   "metadata":{
    "datalore":{
     "node_id":"kVyAZsPN277gTVsEmgB8Lj",
     "type":"CODE",
     "hide_input_from_viewers":false,
     "hide_output_from_viewers":false,
     "report_properties":{
      
     }
    }
   }
  }
 ],
 "metadata":{
  "kernelspec":{
   "display_name":"Python",
   "language":"python",
   "name":"python"
  },
  "datalore":{
   "version":1,
   "computation_mode":"JUPYTER",
   "package_manager":"pip",
   "base_environment":"default",
   "packages":[
    
   ]
  }
 },
 "nbformat":4,
 "nbformat_minor":4
}