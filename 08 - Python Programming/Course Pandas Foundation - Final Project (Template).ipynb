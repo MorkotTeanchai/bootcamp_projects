{
 "cells":[
  {
   "cell_type":"markdown",
   "source":[
    "# Project"
   ],
   "attachments":{
    
   },
   "metadata":{
    "datalore":{
     "node_id":"Project",
     "type":"MD",
     "hide_input_from_viewers":false,
     "hide_output_from_viewers":false,
     "sheet_delimiter":true
    }
   }
  },
  {
   "cell_type":"markdown",
   "source":[
    "# Final Project - Analyzing Sales Data\n",
    "\n",
    "**Date**: 23 Novamber 2022\n",
    "\n",
    "**Author**: Morakot Teanchai\n",
    "\n",
    "**Course**: `Pandas Foundation`"
   ],
   "attachments":{
    
   },
   "metadata":{
    "datalore":{
     "node_id":"x03wG63Iw6sL5uKGIAFctg",
     "type":"MD",
     "hide_input_from_viewers":false,
     "hide_output_from_viewers":false,
     "report_properties":{
      "y":0
     }
    }
   }
  },
  {
   "cell_type":"code",
   "source":[
    "# import data\n",
    "import pandas as pd\n",
    "df = pd.read_csv(\"sample-store.csv\")"
   ],
   "execution_count":16,
   "outputs":[
    
   ],
   "metadata":{
    "datalore":{
     "node_id":"Ayx2HnBWtNVM47ilJ8G78D",
     "type":"CODE",
     "hide_input_from_viewers":false,
     "hide_output_from_viewers":false,
     "report_properties":{
      "y":6
     }
    }
   }
  },
  {
   "cell_type":"code",
   "source":[
    "# preview top 5 rows\n",
    "df.head(5)"
   ],
   "execution_count":18,
   "outputs":[
    {
     "data":{
      "text\/html":[
       "<div>\n",
       "<style scoped>\n",
       "    .dataframe tbody tr th:only-of-type {\n",
       "        vertical-align: middle;\n",
       "    }\n",
       "\n",
       "    .dataframe tbody tr th {\n",
       "        vertical-align: top;\n",
       "    }\n",
       "\n",
       "    .dataframe thead th {\n",
       "        text-align: right;\n",
       "    }\n",
       "<\/style>\n",
       "<table border=\"1\" class=\"dataframe\">\n",
       "  <thead>\n",
       "    <tr style=\"text-align: right;\">\n",
       "      <th><\/th>\n",
       "      <th>Row ID<\/th>\n",
       "      <th>Order ID<\/th>\n",
       "      <th>Order Date<\/th>\n",
       "      <th>Ship Date<\/th>\n",
       "      <th>Ship Mode<\/th>\n",
       "      <th>Customer ID<\/th>\n",
       "      <th>Customer Name<\/th>\n",
       "      <th>Segment<\/th>\n",
       "      <th>Country\/Region<\/th>\n",
       "      <th>City<\/th>\n",
       "      <th>...<\/th>\n",
       "      <th>Postal Code<\/th>\n",
       "      <th>Region<\/th>\n",
       "      <th>Product ID<\/th>\n",
       "      <th>Category<\/th>\n",
       "      <th>Sub-Category<\/th>\n",
       "      <th>Product Name<\/th>\n",
       "      <th>Sales<\/th>\n",
       "      <th>Quantity<\/th>\n",
       "      <th>Discount<\/th>\n",
       "      <th>Profit<\/th>\n",
       "    <\/tr>\n",
       "  <\/thead>\n",
       "  <tbody>\n",
       "    <tr>\n",
       "      <th>0<\/th>\n",
       "      <td>1<\/td>\n",
       "      <td>CA-2019-152156<\/td>\n",
       "      <td>11\/8\/2019<\/td>\n",
       "      <td>11\/11\/2019<\/td>\n",
       "      <td>Second Class<\/td>\n",
       "      <td>CG-12520<\/td>\n",
       "      <td>Claire Gute<\/td>\n",
       "      <td>Consumer<\/td>\n",
       "      <td>United States<\/td>\n",
       "      <td>Henderson<\/td>\n",
       "      <td>...<\/td>\n",
       "      <td>42420.0<\/td>\n",
       "      <td>South<\/td>\n",
       "      <td>FUR-BO-10001798<\/td>\n",
       "      <td>Furniture<\/td>\n",
       "      <td>Bookcases<\/td>\n",
       "      <td>Bush Somerset Collection Bookcase<\/td>\n",
       "      <td>261.9600<\/td>\n",
       "      <td>2<\/td>\n",
       "      <td>0.00<\/td>\n",
       "      <td>41.9136<\/td>\n",
       "    <\/tr>\n",
       "    <tr>\n",
       "      <th>1<\/th>\n",
       "      <td>2<\/td>\n",
       "      <td>CA-2019-152156<\/td>\n",
       "      <td>11\/8\/2019<\/td>\n",
       "      <td>11\/11\/2019<\/td>\n",
       "      <td>Second Class<\/td>\n",
       "      <td>CG-12520<\/td>\n",
       "      <td>Claire Gute<\/td>\n",
       "      <td>Consumer<\/td>\n",
       "      <td>United States<\/td>\n",
       "      <td>Henderson<\/td>\n",
       "      <td>...<\/td>\n",
       "      <td>42420.0<\/td>\n",
       "      <td>South<\/td>\n",
       "      <td>FUR-CH-10000454<\/td>\n",
       "      <td>Furniture<\/td>\n",
       "      <td>Chairs<\/td>\n",
       "      <td>Hon Deluxe Fabric Upholstered Stacking Chairs,...<\/td>\n",
       "      <td>731.9400<\/td>\n",
       "      <td>3<\/td>\n",
       "      <td>0.00<\/td>\n",
       "      <td>219.5820<\/td>\n",
       "    <\/tr>\n",
       "    <tr>\n",
       "      <th>2<\/th>\n",
       "      <td>3<\/td>\n",
       "      <td>CA-2019-138688<\/td>\n",
       "      <td>6\/12\/2019<\/td>\n",
       "      <td>6\/16\/2019<\/td>\n",
       "      <td>Second Class<\/td>\n",
       "      <td>DV-13045<\/td>\n",
       "      <td>Darrin Van Huff<\/td>\n",
       "      <td>Corporate<\/td>\n",
       "      <td>United States<\/td>\n",
       "      <td>Los Angeles<\/td>\n",
       "      <td>...<\/td>\n",
       "      <td>90036.0<\/td>\n",
       "      <td>West<\/td>\n",
       "      <td>OFF-LA-10000240<\/td>\n",
       "      <td>Office Supplies<\/td>\n",
       "      <td>Labels<\/td>\n",
       "      <td>Self-Adhesive Address Labels for Typewriters b...<\/td>\n",
       "      <td>14.6200<\/td>\n",
       "      <td>2<\/td>\n",
       "      <td>0.00<\/td>\n",
       "      <td>6.8714<\/td>\n",
       "    <\/tr>\n",
       "    <tr>\n",
       "      <th>3<\/th>\n",
       "      <td>4<\/td>\n",
       "      <td>US-2018-108966<\/td>\n",
       "      <td>10\/11\/2018<\/td>\n",
       "      <td>10\/18\/2018<\/td>\n",
       "      <td>Standard Class<\/td>\n",
       "      <td>SO-20335<\/td>\n",
       "      <td>Sean O'Donnell<\/td>\n",
       "      <td>Consumer<\/td>\n",
       "      <td>United States<\/td>\n",
       "      <td>Fort Lauderdale<\/td>\n",
       "      <td>...<\/td>\n",
       "      <td>33311.0<\/td>\n",
       "      <td>South<\/td>\n",
       "      <td>FUR-TA-10000577<\/td>\n",
       "      <td>Furniture<\/td>\n",
       "      <td>Tables<\/td>\n",
       "      <td>Bretford CR4500 Series Slim Rectangular Table<\/td>\n",
       "      <td>957.5775<\/td>\n",
       "      <td>5<\/td>\n",
       "      <td>0.45<\/td>\n",
       "      <td>-383.0310<\/td>\n",
       "    <\/tr>\n",
       "    <tr>\n",
       "      <th>4<\/th>\n",
       "      <td>5<\/td>\n",
       "      <td>US-2018-108966<\/td>\n",
       "      <td>10\/11\/2018<\/td>\n",
       "      <td>10\/18\/2018<\/td>\n",
       "      <td>Standard Class<\/td>\n",
       "      <td>SO-20335<\/td>\n",
       "      <td>Sean O'Donnell<\/td>\n",
       "      <td>Consumer<\/td>\n",
       "      <td>United States<\/td>\n",
       "      <td>Fort Lauderdale<\/td>\n",
       "      <td>...<\/td>\n",
       "      <td>33311.0<\/td>\n",
       "      <td>South<\/td>\n",
       "      <td>OFF-ST-10000760<\/td>\n",
       "      <td>Office Supplies<\/td>\n",
       "      <td>Storage<\/td>\n",
       "      <td>Eldon Fold 'N Roll Cart System<\/td>\n",
       "      <td>22.3680<\/td>\n",
       "      <td>2<\/td>\n",
       "      <td>0.20<\/td>\n",
       "      <td>2.5164<\/td>\n",
       "    <\/tr>\n",
       "  <\/tbody>\n",
       "<\/table>\n",
       "<p>5 rows × 21 columns<\/p>\n",
       "<\/div>"
      ]
     },
     "metadata":{
      
     },
     "output_type":"display_data"
    }
   ],
   "metadata":{
    "datalore":{
     "node_id":"KOqWxEC2T2e4YIlSrSrxXu",
     "type":"CODE",
     "hide_input_from_viewers":false,
     "hide_output_from_viewers":false,
     "report_properties":{
      "y":10
     }
    }
   }
  },
  {
   "cell_type":"code",
   "source":[
    "# shape of dataframe\n",
    "df.shape"
   ],
   "execution_count":19,
   "outputs":[
    {
     "data":{
      "text\/plain":[
       "(9994, 21)"
      ]
     },
     "metadata":{
      
     },
     "output_type":"display_data"
    }
   ],
   "metadata":{
    "datalore":{
     "node_id":"0GZ6LqgR33KFCbIPsDeais",
     "type":"CODE",
     "hide_input_from_viewers":false,
     "hide_output_from_viewers":false,
     "report_properties":{
      "y":27
     }
    }
   }
  },
  {
   "cell_type":"code",
   "source":[
    "# see data frame information using .info()\n",
    "df.info()"
   ],
   "execution_count":20,
   "outputs":[
    {
     "name":"stdout",
     "text":[
      "<class 'pandas.core.frame.DataFrame'>\n",
      "RangeIndex: 9994 entries, 0 to 9993\n",
      "Data columns (total 21 columns):\n",
      " #   Column          Non-Null Count  Dtype  \n",
      "---  ------          --------------  -----  \n",
      " 0   Row ID          9994 non-null   int64  \n",
      " 1   Order ID        9994 non-null   object \n",
      " 2   Order Date      9994 non-null   object \n",
      " 3   Ship Date       9994 non-null   object \n",
      " 4   Ship Mode       9994 non-null   object \n",
      " 5   Customer ID     9994 non-null   object \n",
      " 6   Customer Name   9994 non-null   object \n",
      " 7   Segment         9994 non-null   object \n",
      " 8   Country\/Region  9994 non-null   object \n",
      " 9   City            9994 non-null   object \n",
      " 10  State           9994 non-null   object \n",
      " 11  Postal Code     9983 non-null   float64\n",
      " 12  Region          9994 non-null   object \n",
      " 13  Product ID      9994 non-null   object \n",
      " 14  Category        9994 non-null   object \n",
      " 15  Sub-Category    9994 non-null   object \n",
      " 16  Product Name    9994 non-null   object \n",
      " 17  Sales           9994 non-null   float64\n",
      " 18  Quantity        9994 non-null   int64  \n",
      " 19  Discount        9994 non-null   float64\n",
      " 20  Profit          9994 non-null   float64\n",
      "dtypes: float64(4), int64(2), object(15)\n",
      "memory usage: 1.6+ MB\n"
     ],
     "output_type":"stream"
    }
   ],
   "metadata":{
    "datalore":{
     "node_id":"iy5leiuieXne5LYQ578138",
     "type":"CODE",
     "hide_input_from_viewers":false,
     "hide_output_from_viewers":false,
     "report_properties":{
      "y":32
     }
    }
   }
  },
  {
   "cell_type":"markdown",
   "source":[
    "We can use `pd.to_datetime()` function to convert columns 'Order Date' and 'Ship Date' to datetime."
   ],
   "attachments":{
    
   },
   "metadata":{
    "datalore":{
     "node_id":"ab16xYyuMsFjN5Ky5ouxHe",
     "type":"MD",
     "hide_input_from_viewers":false,
     "hide_output_from_viewers":false,
     "report_properties":{
      "y":46
     }
    }
   }
  },
  {
   "cell_type":"code",
   "source":[
    "# example of pd.to_datetime() function\n",
    "pd.to_datetime(df['Order Date'].head(), format='%m\/%d\/%Y')"
   ],
   "execution_count":21,
   "outputs":[
    {
     "data":{
      "text\/html":[
       "<pre>0   2019-11-08\n",
       "1   2019-11-08\n",
       "2   2019-06-12\n",
       "3   2018-10-11\n",
       "4   2018-10-11\n",
       "Name: Order Date, dtype: datetime64[ns]<\/pre>"
      ]
     },
     "metadata":{
      
     },
     "output_type":"display_data"
    }
   ],
   "metadata":{
    "datalore":{
     "node_id":"PJRz6tznNyekwCnmltngMI",
     "type":"CODE",
     "hide_input_from_viewers":false,
     "hide_output_from_viewers":false,
     "report_properties":{
      "y":49
     }
    }
   }
  },
  {
   "cell_type":"code",
   "source":[
    "# TODO - convert order date and ship date to datetime in the original dataframe\n",
    "df['Order Date'] = pd.to_datetime(df['Order Date'], format='%m\/%d\/%Y')\n",
    "df['Ship Date'] = pd.to_datetime(df['Ship Date'], format='%m\/%d\/%Y')"
   ],
   "execution_count":22,
   "outputs":[
    
   ],
   "metadata":{
    "datalore":{
     "node_id":"OuSMpLbuVGuAgaiETASZt4",
     "type":"CODE",
     "hide_input_from_viewers":false,
     "hide_output_from_viewers":false,
     "report_properties":{
      "y":52
     }
    }
   }
  },
  {
   "cell_type":"code",
   "source":[
    "# TODO - count nan in postal code column\n",
    "df['Postal Code'].isna().sum()"
   ],
   "execution_count":23,
   "outputs":[
    {
     "data":{
      "text\/plain":[
       "11"
      ]
     },
     "metadata":{
      
     },
     "output_type":"display_data"
    }
   ],
   "metadata":{
    "datalore":{
     "node_id":"VOEcKJZy3l9eCCIRdHErrv",
     "type":"CODE",
     "hide_input_from_viewers":false,
     "hide_output_from_viewers":false,
     "report_properties":{
      "y":55
     }
    }
   }
  },
  {
   "cell_type":"code",
   "source":[
    "# TODO - filter rows with missing values\n",
    "df[df.isna().any(axis =1)]"
   ],
   "execution_count":24,
   "outputs":[
    {
     "data":{
      "text\/html":[
       "<div>\n",
       "<style scoped>\n",
       "    .dataframe tbody tr th:only-of-type {\n",
       "        vertical-align: middle;\n",
       "    }\n",
       "\n",
       "    .dataframe tbody tr th {\n",
       "        vertical-align: top;\n",
       "    }\n",
       "\n",
       "    .dataframe thead th {\n",
       "        text-align: right;\n",
       "    }\n",
       "<\/style>\n",
       "<table border=\"1\" class=\"dataframe\">\n",
       "  <thead>\n",
       "    <tr style=\"text-align: right;\">\n",
       "      <th><\/th>\n",
       "      <th>Row ID<\/th>\n",
       "      <th>Order ID<\/th>\n",
       "      <th>Order Date<\/th>\n",
       "      <th>Ship Date<\/th>\n",
       "      <th>Ship Mode<\/th>\n",
       "      <th>Customer ID<\/th>\n",
       "      <th>Customer Name<\/th>\n",
       "      <th>Segment<\/th>\n",
       "      <th>Country\/Region<\/th>\n",
       "      <th>City<\/th>\n",
       "      <th>...<\/th>\n",
       "      <th>Postal Code<\/th>\n",
       "      <th>Region<\/th>\n",
       "      <th>Product ID<\/th>\n",
       "      <th>Category<\/th>\n",
       "      <th>Sub-Category<\/th>\n",
       "      <th>Product Name<\/th>\n",
       "      <th>Sales<\/th>\n",
       "      <th>Quantity<\/th>\n",
       "      <th>Discount<\/th>\n",
       "      <th>Profit<\/th>\n",
       "    <\/tr>\n",
       "  <\/thead>\n",
       "  <tbody>\n",
       "    <tr>\n",
       "      <th>2234<\/th>\n",
       "      <td>2235<\/td>\n",
       "      <td>CA-2020-104066<\/td>\n",
       "      <td>2020-12-05<\/td>\n",
       "      <td>2020-12-10<\/td>\n",
       "      <td>Standard Class<\/td>\n",
       "      <td>QJ-19255<\/td>\n",
       "      <td>Quincy Jones<\/td>\n",
       "      <td>Corporate<\/td>\n",
       "      <td>United States<\/td>\n",
       "      <td>Burlington<\/td>\n",
       "      <td>...<\/td>\n",
       "      <td>NaN<\/td>\n",
       "      <td>East<\/td>\n",
       "      <td>TEC-AC-10001013<\/td>\n",
       "      <td>Technology<\/td>\n",
       "      <td>Accessories<\/td>\n",
       "      <td>Logitech ClearChat Comfort\/USB Headset H390<\/td>\n",
       "      <td>205.03<\/td>\n",
       "      <td>7<\/td>\n",
       "      <td>0.0<\/td>\n",
       "      <td>67.6599<\/td>\n",
       "    <\/tr>\n",
       "    <tr>\n",
       "      <th>5274<\/th>\n",
       "      <td>5275<\/td>\n",
       "      <td>CA-2018-162887<\/td>\n",
       "      <td>2018-11-07<\/td>\n",
       "      <td>2018-11-09<\/td>\n",
       "      <td>Second Class<\/td>\n",
       "      <td>SV-20785<\/td>\n",
       "      <td>Stewart Visinsky<\/td>\n",
       "      <td>Consumer<\/td>\n",
       "      <td>United States<\/td>\n",
       "      <td>Burlington<\/td>\n",
       "      <td>...<\/td>\n",
       "      <td>NaN<\/td>\n",
       "      <td>East<\/td>\n",
       "      <td>FUR-CH-10000595<\/td>\n",
       "      <td>Furniture<\/td>\n",
       "      <td>Chairs<\/td>\n",
       "      <td>Safco Contoured Stacking Chairs<\/td>\n",
       "      <td>715.20<\/td>\n",
       "      <td>3<\/td>\n",
       "      <td>0.0<\/td>\n",
       "      <td>178.8000<\/td>\n",
       "    <\/tr>\n",
       "    <tr>\n",
       "      <th>8798<\/th>\n",
       "      <td>8799<\/td>\n",
       "      <td>US-2019-150140<\/td>\n",
       "      <td>2019-04-06<\/td>\n",
       "      <td>2019-04-10<\/td>\n",
       "      <td>Standard Class<\/td>\n",
       "      <td>VM-21685<\/td>\n",
       "      <td>Valerie Mitchum<\/td>\n",
       "      <td>Home Office<\/td>\n",
       "      <td>United States<\/td>\n",
       "      <td>Burlington<\/td>\n",
       "      <td>...<\/td>\n",
       "      <td>NaN<\/td>\n",
       "      <td>East<\/td>\n",
       "      <td>TEC-PH-10002555<\/td>\n",
       "      <td>Technology<\/td>\n",
       "      <td>Phones<\/td>\n",
       "      <td>Nortel Meridian M5316 Digital phone<\/td>\n",
       "      <td>1294.75<\/td>\n",
       "      <td>5<\/td>\n",
       "      <td>0.0<\/td>\n",
       "      <td>336.6350<\/td>\n",
       "    <\/tr>\n",
       "    <tr>\n",
       "      <th>9146<\/th>\n",
       "      <td>9147<\/td>\n",
       "      <td>US-2019-165505<\/td>\n",
       "      <td>2019-01-23<\/td>\n",
       "      <td>2019-01-27<\/td>\n",
       "      <td>Standard Class<\/td>\n",
       "      <td>CB-12535<\/td>\n",
       "      <td>Claudia Bergmann<\/td>\n",
       "      <td>Corporate<\/td>\n",
       "      <td>United States<\/td>\n",
       "      <td>Burlington<\/td>\n",
       "      <td>...<\/td>\n",
       "      <td>NaN<\/td>\n",
       "      <td>East<\/td>\n",
       "      <td>TEC-AC-10002926<\/td>\n",
       "      <td>Technology<\/td>\n",
       "      <td>Accessories<\/td>\n",
       "      <td>Logitech Wireless Marathon Mouse M705<\/td>\n",
       "      <td>99.98<\/td>\n",
       "      <td>2<\/td>\n",
       "      <td>0.0<\/td>\n",
       "      <td>42.9914<\/td>\n",
       "    <\/tr>\n",
       "    <tr>\n",
       "      <th>9147<\/th>\n",
       "      <td>9148<\/td>\n",
       "      <td>US-2019-165505<\/td>\n",
       "      <td>2019-01-23<\/td>\n",
       "      <td>2019-01-27<\/td>\n",
       "      <td>Standard Class<\/td>\n",
       "      <td>CB-12535<\/td>\n",
       "      <td>Claudia Bergmann<\/td>\n",
       "      <td>Corporate<\/td>\n",
       "      <td>United States<\/td>\n",
       "      <td>Burlington<\/td>\n",
       "      <td>...<\/td>\n",
       "      <td>NaN<\/td>\n",
       "      <td>East<\/td>\n",
       "      <td>OFF-AR-10003477<\/td>\n",
       "      <td>Office Supplies<\/td>\n",
       "      <td>Art<\/td>\n",
       "      <td>4009 Highlighters<\/td>\n",
       "      <td>8.04<\/td>\n",
       "      <td>6<\/td>\n",
       "      <td>0.0<\/td>\n",
       "      <td>2.7336<\/td>\n",
       "    <\/tr>\n",
       "    <tr>\n",
       "      <th>9148<\/th>\n",
       "      <td>9149<\/td>\n",
       "      <td>US-2019-165505<\/td>\n",
       "      <td>2019-01-23<\/td>\n",
       "      <td>2019-01-27<\/td>\n",
       "      <td>Standard Class<\/td>\n",
       "      <td>CB-12535<\/td>\n",
       "      <td>Claudia Bergmann<\/td>\n",
       "      <td>Corporate<\/td>\n",
       "      <td>United States<\/td>\n",
       "      <td>Burlington<\/td>\n",
       "      <td>...<\/td>\n",
       "      <td>NaN<\/td>\n",
       "      <td>East<\/td>\n",
       "      <td>OFF-ST-10001526<\/td>\n",
       "      <td>Office Supplies<\/td>\n",
       "      <td>Storage<\/td>\n",
       "      <td>Iceberg Mobile Mega Data\/Printer Cart<\/td>\n",
       "      <td>1564.29<\/td>\n",
       "      <td>13<\/td>\n",
       "      <td>0.0<\/td>\n",
       "      <td>406.7154<\/td>\n",
       "    <\/tr>\n",
       "    <tr>\n",
       "      <th>9386<\/th>\n",
       "      <td>9387<\/td>\n",
       "      <td>US-2020-127292<\/td>\n",
       "      <td>2020-01-19<\/td>\n",
       "      <td>2020-01-23<\/td>\n",
       "      <td>Standard Class<\/td>\n",
       "      <td>RM-19375<\/td>\n",
       "      <td>Raymond Messe<\/td>\n",
       "      <td>Consumer<\/td>\n",
       "      <td>United States<\/td>\n",
       "      <td>Burlington<\/td>\n",
       "      <td>...<\/td>\n",
       "      <td>NaN<\/td>\n",
       "      <td>East<\/td>\n",
       "      <td>OFF-PA-10000157<\/td>\n",
       "      <td>Office Supplies<\/td>\n",
       "      <td>Paper<\/td>\n",
       "      <td>Xerox 191<\/td>\n",
       "      <td>79.92<\/td>\n",
       "      <td>4<\/td>\n",
       "      <td>0.0<\/td>\n",
       "      <td>37.5624<\/td>\n",
       "    <\/tr>\n",
       "    <tr>\n",
       "      <th>9387<\/th>\n",
       "      <td>9388<\/td>\n",
       "      <td>US-2020-127292<\/td>\n",
       "      <td>2020-01-19<\/td>\n",
       "      <td>2020-01-23<\/td>\n",
       "      <td>Standard Class<\/td>\n",
       "      <td>RM-19375<\/td>\n",
       "      <td>Raymond Messe<\/td>\n",
       "      <td>Consumer<\/td>\n",
       "      <td>United States<\/td>\n",
       "      <td>Burlington<\/td>\n",
       "      <td>...<\/td>\n",
       "      <td>NaN<\/td>\n",
       "      <td>East<\/td>\n",
       "      <td>OFF-PA-10001970<\/td>\n",
       "      <td>Office Supplies<\/td>\n",
       "      <td>Paper<\/td>\n",
       "      <td>Xerox 1881<\/td>\n",
       "      <td>12.28<\/td>\n",
       "      <td>1<\/td>\n",
       "      <td>0.0<\/td>\n",
       "      <td>5.7716<\/td>\n",
       "    <\/tr>\n",
       "    <tr>\n",
       "      <th>9388<\/th>\n",
       "      <td>9389<\/td>\n",
       "      <td>US-2020-127292<\/td>\n",
       "      <td>2020-01-19<\/td>\n",
       "      <td>2020-01-23<\/td>\n",
       "      <td>Standard Class<\/td>\n",
       "      <td>RM-19375<\/td>\n",
       "      <td>Raymond Messe<\/td>\n",
       "      <td>Consumer<\/td>\n",
       "      <td>United States<\/td>\n",
       "      <td>Burlington<\/td>\n",
       "      <td>...<\/td>\n",
       "      <td>NaN<\/td>\n",
       "      <td>East<\/td>\n",
       "      <td>OFF-AP-10000828<\/td>\n",
       "      <td>Office Supplies<\/td>\n",
       "      <td>Appliances<\/td>\n",
       "      <td>Avanti 4.4 Cu. Ft. Refrigerator<\/td>\n",
       "      <td>542.94<\/td>\n",
       "      <td>3<\/td>\n",
       "      <td>0.0<\/td>\n",
       "      <td>152.0232<\/td>\n",
       "    <\/tr>\n",
       "    <tr>\n",
       "      <th>9389<\/th>\n",
       "      <td>9390<\/td>\n",
       "      <td>US-2020-127292<\/td>\n",
       "      <td>2020-01-19<\/td>\n",
       "      <td>2020-01-23<\/td>\n",
       "      <td>Standard Class<\/td>\n",
       "      <td>RM-19375<\/td>\n",
       "      <td>Raymond Messe<\/td>\n",
       "      <td>Consumer<\/td>\n",
       "      <td>United States<\/td>\n",
       "      <td>Burlington<\/td>\n",
       "      <td>...<\/td>\n",
       "      <td>NaN<\/td>\n",
       "      <td>East<\/td>\n",
       "      <td>OFF-EN-10001509<\/td>\n",
       "      <td>Office Supplies<\/td>\n",
       "      <td>Envelopes<\/td>\n",
       "      <td>Poly String Tie Envelopes<\/td>\n",
       "      <td>2.04<\/td>\n",
       "      <td>1<\/td>\n",
       "      <td>0.0<\/td>\n",
       "      <td>0.9588<\/td>\n",
       "    <\/tr>\n",
       "    <tr>\n",
       "      <th>9741<\/th>\n",
       "      <td>9742<\/td>\n",
       "      <td>CA-2018-117086<\/td>\n",
       "      <td>2018-11-08<\/td>\n",
       "      <td>2018-11-12<\/td>\n",
       "      <td>Standard Class<\/td>\n",
       "      <td>QJ-19255<\/td>\n",
       "      <td>Quincy Jones<\/td>\n",
       "      <td>Corporate<\/td>\n",
       "      <td>United States<\/td>\n",
       "      <td>Burlington<\/td>\n",
       "      <td>...<\/td>\n",
       "      <td>NaN<\/td>\n",
       "      <td>East<\/td>\n",
       "      <td>FUR-BO-10004834<\/td>\n",
       "      <td>Furniture<\/td>\n",
       "      <td>Bookcases<\/td>\n",
       "      <td>Riverside Palais Royal Lawyers Bookcase, Royal...<\/td>\n",
       "      <td>4404.90<\/td>\n",
       "      <td>5<\/td>\n",
       "      <td>0.0<\/td>\n",
       "      <td>1013.1270<\/td>\n",
       "    <\/tr>\n",
       "  <\/tbody>\n",
       "<\/table>\n",
       "<p>11 rows × 21 columns<\/p>\n",
       "<\/div>"
      ]
     },
     "metadata":{
      
     },
     "output_type":"display_data"
    }
   ],
   "metadata":{
    "datalore":{
     "node_id":"DHKrGdhty3SRVTFNngWf72",
     "type":"CODE",
     "hide_input_from_viewers":false,
     "hide_output_from_viewers":false,
     "report_properties":{
      "y":58
     }
    }
   }
  },
  {
   "cell_type":"code",
   "source":[
    "# TODO - Explore this dataset on your owns, ask your own questions"
   ],
   "execution_count":null,
   "outputs":[
    
   ],
   "metadata":{
    "datalore":{
     "node_id":"i1EB1xYG2X1TNPG6fHhGh5",
     "type":"CODE",
     "hide_input_from_viewers":false,
     "hide_output_from_viewers":false,
     "report_properties":{
      "y":61
     }
    }
   }
  },
  {
   "cell_type":"markdown",
   "source":[
    "**Explore 1: Profit by Region**"
   ],
   "attachments":{
    
   },
   "metadata":{
    "datalore":{
     "node_id":"W3IgpNgpfe2FxrSaWqEZpB",
     "type":"MD",
     "hide_input_from_viewers":true,
     "hide_output_from_viewers":true,
     "report_properties":{
      
     }
    }
   }
  },
  {
   "cell_type":"code",
   "source":[
    "# Explore 1: Profit by Region\n",
    "df[['Profit','Region']].\\\n",
    "    groupby('Region').sum().\\\n",
    "    sort_values(by=['Profit'], ascending=False)"
   ],
   "execution_count":25,
   "outputs":[
    {
     "data":{
      "text\/html":[
       "<div>\n",
       "<style scoped>\n",
       "    .dataframe tbody tr th:only-of-type {\n",
       "        vertical-align: middle;\n",
       "    }\n",
       "\n",
       "    .dataframe tbody tr th {\n",
       "        vertical-align: top;\n",
       "    }\n",
       "\n",
       "    .dataframe thead th {\n",
       "        text-align: right;\n",
       "    }\n",
       "<\/style>\n",
       "<table border=\"1\" class=\"dataframe\">\n",
       "  <thead>\n",
       "    <tr style=\"text-align: right;\">\n",
       "      <th><\/th>\n",
       "      <th>Profit<\/th>\n",
       "    <\/tr>\n",
       "    <tr>\n",
       "      <th>Region<\/th>\n",
       "      <th><\/th>\n",
       "    <\/tr>\n",
       "  <\/thead>\n",
       "  <tbody>\n",
       "    <tr>\n",
       "      <th>West<\/th>\n",
       "      <td>108418.4489<\/td>\n",
       "    <\/tr>\n",
       "    <tr>\n",
       "      <th>East<\/th>\n",
       "      <td>91522.7800<\/td>\n",
       "    <\/tr>\n",
       "    <tr>\n",
       "      <th>South<\/th>\n",
       "      <td>46749.4303<\/td>\n",
       "    <\/tr>\n",
       "    <tr>\n",
       "      <th>Central<\/th>\n",
       "      <td>39706.3625<\/td>\n",
       "    <\/tr>\n",
       "  <\/tbody>\n",
       "<\/table>\n",
       "<\/div>"
      ]
     },
     "metadata":{
      
     },
     "output_type":"display_data"
    }
   ],
   "metadata":{
    "datalore":{
     "node_id":"fNvUMesnYu0sa3uMYON3Wd",
     "type":"CODE",
     "hide_input_from_viewers":true,
     "hide_output_from_viewers":true,
     "report_properties":{
      
     }
    }
   }
  },
  {
   "cell_type":"markdown",
   "source":[
    "**Explore 2: Profit by Segment**"
   ],
   "attachments":{
    
   },
   "metadata":{
    "datalore":{
     "node_id":"PiULu8ceHuZZABZTPvu627",
     "type":"MD",
     "hide_input_from_viewers":true,
     "hide_output_from_viewers":true,
     "report_properties":{
      
     }
    }
   }
  },
  {
   "cell_type":"code",
   "source":[
    "# Explore 2: Profit by Segment\n",
    "df[['Profit','Segment']].\\\n",
    "    groupby('Segment').sum().\\\n",
    "    sort_values(by=['Profit'], ascending=False)"
   ],
   "execution_count":26,
   "outputs":[
    {
     "data":{
      "text\/html":[
       "<div>\n",
       "<style scoped>\n",
       "    .dataframe tbody tr th:only-of-type {\n",
       "        vertical-align: middle;\n",
       "    }\n",
       "\n",
       "    .dataframe tbody tr th {\n",
       "        vertical-align: top;\n",
       "    }\n",
       "\n",
       "    .dataframe thead th {\n",
       "        text-align: right;\n",
       "    }\n",
       "<\/style>\n",
       "<table border=\"1\" class=\"dataframe\">\n",
       "  <thead>\n",
       "    <tr style=\"text-align: right;\">\n",
       "      <th><\/th>\n",
       "      <th>Profit<\/th>\n",
       "    <\/tr>\n",
       "    <tr>\n",
       "      <th>Segment<\/th>\n",
       "      <th><\/th>\n",
       "    <\/tr>\n",
       "  <\/thead>\n",
       "  <tbody>\n",
       "    <tr>\n",
       "      <th>Consumer<\/th>\n",
       "      <td>134119.2092<\/td>\n",
       "    <\/tr>\n",
       "    <tr>\n",
       "      <th>Corporate<\/th>\n",
       "      <td>91979.1340<\/td>\n",
       "    <\/tr>\n",
       "    <tr>\n",
       "      <th>Home Office<\/th>\n",
       "      <td>60298.6785<\/td>\n",
       "    <\/tr>\n",
       "  <\/tbody>\n",
       "<\/table>\n",
       "<\/div>"
      ]
     },
     "metadata":{
      
     },
     "output_type":"display_data"
    }
   ],
   "metadata":{
    "datalore":{
     "node_id":"9MidByUbwR7tjmc7TSgLai",
     "type":"CODE",
     "hide_input_from_viewers":true,
     "hide_output_from_viewers":true,
     "report_properties":{
      
     }
    }
   }
  },
  {
   "cell_type":"markdown",
   "source":[
    "**Explore 3: Profit by Category**"
   ],
   "attachments":{
    
   },
   "metadata":{
    "datalore":{
     "node_id":"9SOj4Vgiflc1ITzBfaSG29",
     "type":"MD",
     "hide_input_from_viewers":true,
     "hide_output_from_viewers":true,
     "report_properties":{
      
     }
    }
   }
  },
  {
   "cell_type":"code",
   "source":[
    "# Explore 3:  Profit by Category\n",
    "df[['Category','Profit']].\\\n",
    "    groupby(['Category']).sum().\\\n",
    "    sort_values(by=['Profit'], ascending=False)"
   ],
   "execution_count":27,
   "outputs":[
    {
     "data":{
      "text\/html":[
       "<div>\n",
       "<style scoped>\n",
       "    .dataframe tbody tr th:only-of-type {\n",
       "        vertical-align: middle;\n",
       "    }\n",
       "\n",
       "    .dataframe tbody tr th {\n",
       "        vertical-align: top;\n",
       "    }\n",
       "\n",
       "    .dataframe thead th {\n",
       "        text-align: right;\n",
       "    }\n",
       "<\/style>\n",
       "<table border=\"1\" class=\"dataframe\">\n",
       "  <thead>\n",
       "    <tr style=\"text-align: right;\">\n",
       "      <th><\/th>\n",
       "      <th>Profit<\/th>\n",
       "    <\/tr>\n",
       "    <tr>\n",
       "      <th>Category<\/th>\n",
       "      <th><\/th>\n",
       "    <\/tr>\n",
       "  <\/thead>\n",
       "  <tbody>\n",
       "    <tr>\n",
       "      <th>Technology<\/th>\n",
       "      <td>145454.9481<\/td>\n",
       "    <\/tr>\n",
       "    <tr>\n",
       "      <th>Office Supplies<\/th>\n",
       "      <td>122490.8008<\/td>\n",
       "    <\/tr>\n",
       "    <tr>\n",
       "      <th>Furniture<\/th>\n",
       "      <td>18451.2728<\/td>\n",
       "    <\/tr>\n",
       "  <\/tbody>\n",
       "<\/table>\n",
       "<\/div>"
      ]
     },
     "metadata":{
      
     },
     "output_type":"display_data"
    }
   ],
   "metadata":{
    "datalore":{
     "node_id":"e2WvoSjzegJFp6wDPMm0gd",
     "type":"CODE",
     "hide_input_from_viewers":true,
     "hide_output_from_viewers":true,
     "report_properties":{
      
     }
    }
   }
  },
  {
   "cell_type":"markdown",
   "source":[
    " **Explore 4: Top 10 Profit of product of 'Technology' category**"
   ],
   "attachments":{
    
   },
   "metadata":{
    "datalore":{
     "node_id":"GF57HYMQrNN1rz2nDOPkIv",
     "type":"MD",
     "hide_input_from_viewers":true,
     "hide_output_from_viewers":true,
     "report_properties":{
      
     }
    }
   }
  },
  {
   "cell_type":"code",
   "source":[
    "#Explore 4: Top 10 Profit of product of 'Technology' category\n",
    "\n",
    "df[(df['Category'] == 'Technology')][['Category','Product ID','Product Name','Profit']].\\\n",
    "    groupby(['Category','Product ID','Product Name'])['Profit'].sum().reset_index(). \\\n",
    "    sort_values(by=['Profit'], ascending=False).head(10)"
   ],
   "execution_count":28,
   "outputs":[
    {
     "data":{
      "text\/html":[
       "<div>\n",
       "<style scoped>\n",
       "    .dataframe tbody tr th:only-of-type {\n",
       "        vertical-align: middle;\n",
       "    }\n",
       "\n",
       "    .dataframe tbody tr th {\n",
       "        vertical-align: top;\n",
       "    }\n",
       "\n",
       "    .dataframe thead th {\n",
       "        text-align: right;\n",
       "    }\n",
       "<\/style>\n",
       "<table border=\"1\" class=\"dataframe\">\n",
       "  <thead>\n",
       "    <tr style=\"text-align: right;\">\n",
       "      <th><\/th>\n",
       "      <th>Category<\/th>\n",
       "      <th>Product ID<\/th>\n",
       "      <th>Product Name<\/th>\n",
       "      <th>Profit<\/th>\n",
       "    <\/tr>\n",
       "  <\/thead>\n",
       "  <tbody>\n",
       "    <tr>\n",
       "      <th>159<\/th>\n",
       "      <td>Technology<\/td>\n",
       "      <td>TEC-CO-10004722<\/td>\n",
       "      <td>Canon imageCLASS 2200 Advanced Copier<\/td>\n",
       "      <td>25199.9280<\/td>\n",
       "    <\/tr>\n",
       "    <tr>\n",
       "      <th>149<\/th>\n",
       "      <td>Technology<\/td>\n",
       "      <td>TEC-CO-10001449<\/td>\n",
       "      <td>Hewlett Packard LaserJet 3310 Copier<\/td>\n",
       "      <td>6983.8836<\/td>\n",
       "    <\/tr>\n",
       "    <tr>\n",
       "      <th>156<\/th>\n",
       "      <td>Technology<\/td>\n",
       "      <td>TEC-CO-10003763<\/td>\n",
       "      <td>Canon PC1060 Personal Laser Copier<\/td>\n",
       "      <td>4570.9347<\/td>\n",
       "    <\/tr>\n",
       "    <tr>\n",
       "      <th>176<\/th>\n",
       "      <td>Technology<\/td>\n",
       "      <td>TEC-MA-10001127<\/td>\n",
       "      <td>HP Designjet T520 Inkjet Large Format Printer ...<\/td>\n",
       "      <td>4094.9766<\/td>\n",
       "    <\/tr>\n",
       "    <tr>\n",
       "      <th>212<\/th>\n",
       "      <td>Technology<\/td>\n",
       "      <td>TEC-MA-10003979<\/td>\n",
       "      <td>Ativa V4110MDD Micro-Cut Shredder<\/td>\n",
       "      <td>3772.9461<\/td>\n",
       "    <\/tr>\n",
       "    <tr>\n",
       "      <th>175<\/th>\n",
       "      <td>Technology<\/td>\n",
       "      <td>TEC-MA-10001047<\/td>\n",
       "      <td>3D Systems Cube Printer, 2nd Generation, Magenta<\/td>\n",
       "      <td>3717.9714<\/td>\n",
       "    <\/tr>\n",
       "    <tr>\n",
       "      <th>60<\/th>\n",
       "      <td>Technology<\/td>\n",
       "      <td>TEC-AC-10002049<\/td>\n",
       "      <td>Plantronics Savi W720 Multi-Device Wireless He...<\/td>\n",
       "      <td>3696.2820<\/td>\n",
       "    <\/tr>\n",
       "    <tr>\n",
       "      <th>162<\/th>\n",
       "      <td>Technology<\/td>\n",
       "      <td>TEC-MA-10000045<\/td>\n",
       "      <td>Zebra ZM400 Thermal Label Printer<\/td>\n",
       "      <td>3343.5360<\/td>\n",
       "    <\/tr>\n",
       "    <tr>\n",
       "      <th>153<\/th>\n",
       "      <td>Technology<\/td>\n",
       "      <td>TEC-CO-10002095<\/td>\n",
       "      <td>Hewlett Packard 610 Color Digital Copier \/ Pri...<\/td>\n",
       "      <td>3124.9375<\/td>\n",
       "    <\/tr>\n",
       "    <tr>\n",
       "      <th>91<\/th>\n",
       "      <td>Technology<\/td>\n",
       "      <td>TEC-AC-10003033<\/td>\n",
       "      <td>Plantronics CS510 - Over-the-Head monaural Wir...<\/td>\n",
       "      <td>3085.0325<\/td>\n",
       "    <\/tr>\n",
       "  <\/tbody>\n",
       "<\/table>\n",
       "<\/div>"
      ]
     },
     "metadata":{
      
     },
     "output_type":"display_data"
    }
   ],
   "metadata":{
    "datalore":{
     "node_id":"Utp2XodgJIuqdXo3jlQpTm",
     "type":"CODE",
     "hide_input_from_viewers":true,
     "hide_output_from_viewers":true,
     "report_properties":{
      
     }
    }
   }
  },
  {
   "cell_type":"markdown",
   "source":[
    "## Data Analysis Part\n",
    "\n",
    "Answer 10 below questions to get credit from this course. Write `pandas` code to find answers."
   ],
   "attachments":{
    
   },
   "metadata":{
    "datalore":{
     "node_id":"DSL3nkLL5PxAHRIMw5xnCW",
     "type":"MD",
     "hide_input_from_viewers":false,
     "hide_output_from_viewers":false,
     "report_properties":{
      "y":64
     }
    }
   }
  },
  {
   "cell_type":"code",
   "source":[
    "# TODO 01 - how many columns, rows in this dataset\n",
    "col_num = df.shape[1]\n",
    "row_num = df.shape[0]\n",
    "print(f\"Columns: {col_num}\\nRows: {row_num}\")"
   ],
   "execution_count":29,
   "outputs":[
    {
     "name":"stdout",
     "text":[
      "Columns: 21\n",
      "Rows: 9994\n"
     ],
     "output_type":"stream"
    }
   ],
   "metadata":{
    "datalore":{
     "node_id":"slRGgHMlw8rBw3fPU14KT3",
     "type":"CODE",
     "hide_input_from_viewers":false,
     "hide_output_from_viewers":false,
     "report_properties":{
      "y":67
     }
    }
   }
  },
  {
   "cell_type":"code",
   "source":[
    "# TODO 02 - is there any missing values?, if there is, which colunm? how many nan values?\n",
    "df[df.columns[df.isna().sum() > 0]].isna().sum()"
   ],
   "execution_count":30,
   "outputs":[
    {
     "data":{
      "text\/html":[
       "<pre>Postal Code    11\n",
       "dtype: int64<\/pre>"
      ]
     },
     "metadata":{
      
     },
     "output_type":"display_data"
    }
   ],
   "metadata":{
    "datalore":{
     "node_id":"Hpi4smxFaIVg8V1XCbzxmu",
     "type":"CODE",
     "hide_input_from_viewers":false,
     "hide_output_from_viewers":false,
     "report_properties":{
      "y":70
     }
    }
   }
  },
  {
   "cell_type":"code",
   "source":[
    "# TODO 03 - your friend ask for `California` data, filter it and export csv for him\n",
    "df_result = df[df['State'] == 'California'] #filter\n",
    "df_result.to_csv('result_California.csv')   #Export csv"
   ],
   "execution_count":31,
   "outputs":[
    
   ],
   "metadata":{
    "datalore":{
     "node_id":"fEJR2xPN8OADCxnoumpjfc",
     "type":"CODE",
     "hide_input_from_viewers":false,
     "hide_output_from_viewers":false,
     "report_properties":{
      "y":73
     }
    }
   }
  },
  {
   "cell_type":"code",
   "source":[
    "# TODO 04 - your friend ask for all order data in `California` and `Texas` in 2017 (look at Order Date), send him csv file\n",
    "df_result =  df[((df['State'] == 'California' )| (df['State'] == 'Texas') )\\\n",
    "           & ( df['Order Date'].dt.strftime('%Y') == '2017')] #filter\n",
    "df_result.to_csv('result_2017.csv')    #Export csv"
   ],
   "execution_count":32,
   "outputs":[
    
   ],
   "metadata":{
    "datalore":{
     "node_id":"kwvKmbUydZUAa41a77mZQx",
     "type":"CODE",
     "hide_input_from_viewers":false,
     "hide_output_from_viewers":false,
     "report_properties":{
      "y":76
     }
    }
   }
  },
  {
   "cell_type":"code",
   "source":[
    "# TODO 05 - how much total sales, average sales, and standard deviation of sales your company make in 2017\n",
    "df_2017 =  df[df['Order Date'].dt.strftime('%Y') == '2017']\n",
    "print(f\"total sales: {df_2017['Sales'].sum()}\")  \n",
    "print(f\"average sales: {df_2017['Sales'].mean() }\")\n",
    "print(f\"standard deviation of sales: {df_2017['Sales'].std()}\")"
   ],
   "execution_count":33,
   "outputs":[
    {
     "name":"stdout",
     "text":[
      "total sales: 484247.4981\n",
      "average sales: 242.97415860511794\n",
      "standard deviation of sales: 754.0533572593683\n"
     ],
     "output_type":"stream"
    }
   ],
   "metadata":{
    "datalore":{
     "node_id":"nu9nJVTq2UUTMJjt1d9P9a",
     "type":"CODE",
     "hide_input_from_viewers":false,
     "hide_output_from_viewers":false,
     "report_properties":{
      "y":79
     }
    }
   }
  },
  {
   "cell_type":"code",
   "source":[
    "# TODO 06 - which Segment has the highest profit in 2018\n",
    "df[df['Order Date'].dt.strftime('%Y') == '2018'][['Profit','Segment']].\\\n",
    "    groupby('Segment').sum().\\\n",
    "    sort_values(by=['Profit'], ascending=False).head(1)"
   ],
   "execution_count":34,
   "outputs":[
    {
     "data":{
      "text\/html":[
       "<div>\n",
       "<style scoped>\n",
       "    .dataframe tbody tr th:only-of-type {\n",
       "        vertical-align: middle;\n",
       "    }\n",
       "\n",
       "    .dataframe tbody tr th {\n",
       "        vertical-align: top;\n",
       "    }\n",
       "\n",
       "    .dataframe thead th {\n",
       "        text-align: right;\n",
       "    }\n",
       "<\/style>\n",
       "<table border=\"1\" class=\"dataframe\">\n",
       "  <thead>\n",
       "    <tr style=\"text-align: right;\">\n",
       "      <th><\/th>\n",
       "      <th>Profit<\/th>\n",
       "    <\/tr>\n",
       "    <tr>\n",
       "      <th>Segment<\/th>\n",
       "      <th><\/th>\n",
       "    <\/tr>\n",
       "  <\/thead>\n",
       "  <tbody>\n",
       "    <tr>\n",
       "      <th>Consumer<\/th>\n",
       "      <td>28460.1665<\/td>\n",
       "    <\/tr>\n",
       "  <\/tbody>\n",
       "<\/table>\n",
       "<\/div>"
      ]
     },
     "metadata":{
      
     },
     "output_type":"display_data"
    }
   ],
   "metadata":{
    "datalore":{
     "node_id":"3OvdEzOL0XmQHuE181y733",
     "type":"CODE",
     "hide_input_from_viewers":false,
     "hide_output_from_viewers":false,
     "report_properties":{
      "y":82
     }
    }
   }
  },
  {
   "cell_type":"code",
   "source":[
    "# TODO 07 - which top 5 States have the least total sales between 15 April 2019 - 31 December 2019\n",
    "import datetime\n",
    "df[(df['Order Date'] >= datetime.datetime(2019, 4, 15) ) & (df['Order Date'] <=  datetime.datetime(2019, 12, 31))]\\\n",
    "    [['State','Sales']].groupby('State').sum().sort_values(by=['Sales'], ascending=True).head(5)"
   ],
   "execution_count":35,
   "outputs":[
    {
     "data":{
      "text\/html":[
       "<div>\n",
       "<style scoped>\n",
       "    .dataframe tbody tr th:only-of-type {\n",
       "        vertical-align: middle;\n",
       "    }\n",
       "\n",
       "    .dataframe tbody tr th {\n",
       "        vertical-align: top;\n",
       "    }\n",
       "\n",
       "    .dataframe thead th {\n",
       "        text-align: right;\n",
       "    }\n",
       "<\/style>\n",
       "<table border=\"1\" class=\"dataframe\">\n",
       "  <thead>\n",
       "    <tr style=\"text-align: right;\">\n",
       "      <th><\/th>\n",
       "      <th>Sales<\/th>\n",
       "    <\/tr>\n",
       "    <tr>\n",
       "      <th>State<\/th>\n",
       "      <th><\/th>\n",
       "    <\/tr>\n",
       "  <\/thead>\n",
       "  <tbody>\n",
       "    <tr>\n",
       "      <th>New Hampshire<\/th>\n",
       "      <td>49.05<\/td>\n",
       "    <\/tr>\n",
       "    <tr>\n",
       "      <th>New Mexico<\/th>\n",
       "      <td>64.08<\/td>\n",
       "    <\/tr>\n",
       "    <tr>\n",
       "      <th>District of Columbia<\/th>\n",
       "      <td>117.07<\/td>\n",
       "    <\/tr>\n",
       "    <tr>\n",
       "      <th>Louisiana<\/th>\n",
       "      <td>249.80<\/td>\n",
       "    <\/tr>\n",
       "    <tr>\n",
       "      <th>South Carolina<\/th>\n",
       "      <td>502.48<\/td>\n",
       "    <\/tr>\n",
       "  <\/tbody>\n",
       "<\/table>\n",
       "<\/div>"
      ]
     },
     "metadata":{
      
     },
     "output_type":"display_data"
    }
   ],
   "metadata":{
    "datalore":{
     "node_id":"27nE3oCXYneB2IoeoGAx78",
     "type":"CODE",
     "hide_input_from_viewers":false,
     "hide_output_from_viewers":false,
     "report_properties":{
      "y":85
     }
    }
   }
  },
  {
   "cell_type":"code",
   "source":[
    "# TODO 08 - what is the proportion of total sales (%) in West + Central in 2019 e.g. 25% \n",
    "\n",
    "print(\"the proportion of total sales (%) in West + Central in 2019: \")\n",
    "(df[(df['Order Date'].dt.strftime('%Y') == '2019') & ((df['Region'] == 'West') | (df['Region'] == 'Central'))]['Sales'].sum()\\\n",
    "\/ df[(df['Order Date'].dt.strftime('%Y') == '2019')]['Sales'].sum() ) * 100"
   ],
   "execution_count":36,
   "outputs":[
    {
     "name":"stdout",
     "text":[
      "the proportion of total sales (%) in West + Central in 2019: \n"
     ],
     "output_type":"stream"
    },
    {
     "data":{
      "text\/plain":[
       "54.97479891837763"
      ]
     },
     "metadata":{
      
     },
     "output_type":"display_data"
    }
   ],
   "metadata":{
    "datalore":{
     "node_id":"zpM66ajjbc6GPWRoDRL7SR",
     "type":"CODE",
     "hide_input_from_viewers":false,
     "hide_output_from_viewers":false,
     "report_properties":{
      "y":88
     }
    }
   }
  },
  {
   "cell_type":"code",
   "source":[
    "# TODO 09 - find top 10 popular products in terms of number of orders vs. total sales during 2019-2020\n",
    "df_toporder= df[(df['Order Date'].dt.strftime('%Y') == '2019') | (df['Order Date'].dt.strftime('%Y') == '2020')]. \\\n",
    "                 groupby(['Product ID','Product Name'])['Order ID'].count().reset_index() \\\n",
    "                 .sort_values(by=['Order ID'] , ascending=False).head(10) \n",
    "df_topsale= df[(df['Order Date'].dt.strftime('%Y') == '2019') | (df['Order Date'].dt.strftime('%Y') == '2020')]. \\\n",
    "                 groupby(['Product ID','Product Name'])['Sales'].sum().reset_index() \\\n",
    "                 .sort_values(by=['Sales'] , ascending=False).head(10)  "
   ],
   "execution_count":37,
   "outputs":[
    
   ],
   "metadata":{
    "datalore":{
     "node_id":"FCEo1jHMShQseMQd3uMcV1",
     "type":"CODE",
     "hide_input_from_viewers":false,
     "hide_output_from_viewers":false,
     "report_properties":{
      "y":91
     }
    }
   }
  },
  {
   "cell_type":"code",
   "source":[
    "#Print result\n",
    "print(\"------------- top 10 popular products in terms of number of orders during 2019-2020 -------------\")\n",
    "df_toporder"
   ],
   "execution_count":38,
   "outputs":[
    {
     "name":"stdout",
     "text":[
      "------------- top 10 popular products in terms of number of orders during 2019-2020 -------------\n"
     ],
     "output_type":"stream"
    },
    {
     "data":{
      "text\/html":[
       "<div>\n",
       "<style scoped>\n",
       "    .dataframe tbody tr th:only-of-type {\n",
       "        vertical-align: middle;\n",
       "    }\n",
       "\n",
       "    .dataframe tbody tr th {\n",
       "        vertical-align: top;\n",
       "    }\n",
       "\n",
       "    .dataframe thead th {\n",
       "        text-align: right;\n",
       "    }\n",
       "<\/style>\n",
       "<table border=\"1\" class=\"dataframe\">\n",
       "  <thead>\n",
       "    <tr style=\"text-align: right;\">\n",
       "      <th><\/th>\n",
       "      <th>Product ID<\/th>\n",
       "      <th>Product Name<\/th>\n",
       "      <th>Order ID<\/th>\n",
       "    <\/tr>\n",
       "  <\/thead>\n",
       "  <tbody>\n",
       "    <tr>\n",
       "      <th>318<\/th>\n",
       "      <td>FUR-TA-10001095<\/td>\n",
       "      <td>Chromcraft Round Conference Tables<\/td>\n",
       "      <td>12<\/td>\n",
       "    <\/tr>\n",
       "    <tr>\n",
       "      <th>107<\/th>\n",
       "      <td>FUR-CH-10003774<\/td>\n",
       "      <td>Global Wood Trimmed Manager's Task Chair, Khaki<\/td>\n",
       "      <td>11<\/td>\n",
       "    <\/tr>\n",
       "    <tr>\n",
       "      <th>625<\/th>\n",
       "      <td>OFF-BI-10000301<\/td>\n",
       "      <td>GBC Instant Report Kit<\/td>\n",
       "      <td>10<\/td>\n",
       "    <\/tr>\n",
       "    <tr>\n",
       "      <th>1294<\/th>\n",
       "      <td>OFF-ST-10001325<\/td>\n",
       "      <td>Sterilite Officeware Hinged File Box<\/td>\n",
       "      <td>10<\/td>\n",
       "    <\/tr>\n",
       "    <tr>\n",
       "      <th>693<\/th>\n",
       "      <td>OFF-BI-10001989<\/td>\n",
       "      <td>Premium Transparent Presentation Covers by GBC<\/td>\n",
       "      <td>9<\/td>\n",
       "    <\/tr>\n",
       "    <tr>\n",
       "      <th>347<\/th>\n",
       "      <td>FUR-TA-10003473<\/td>\n",
       "      <td>Bretford Rectangular Conference Table Tops<\/td>\n",
       "      <td>9<\/td>\n",
       "    <\/tr>\n",
       "    <tr>\n",
       "      <th>795<\/th>\n",
       "      <td>OFF-BI-10004364<\/td>\n",
       "      <td>Storex Dura Pro Binders<\/td>\n",
       "      <td>9<\/td>\n",
       "    <\/tr>\n",
       "    <tr>\n",
       "      <th>1534<\/th>\n",
       "      <td>TEC-AC-10004510<\/td>\n",
       "      <td>Logitech Desktop MK120 Mouse and keyboard Combo<\/td>\n",
       "      <td>9<\/td>\n",
       "    <\/tr>\n",
       "    <tr>\n",
       "      <th>790<\/th>\n",
       "      <td>OFF-BI-10004236<\/td>\n",
       "      <td>XtraLife ClearVue Slant-D Ring Binder, White, 3\"<\/td>\n",
       "      <td>9<\/td>\n",
       "    <\/tr>\n",
       "    <tr>\n",
       "      <th>53<\/th>\n",
       "      <td>FUR-CH-10000454<\/td>\n",
       "      <td>Hon Deluxe Fabric Upholstered Stacking Chairs,...<\/td>\n",
       "      <td>9<\/td>\n",
       "    <\/tr>\n",
       "  <\/tbody>\n",
       "<\/table>\n",
       "<\/div>"
      ]
     },
     "metadata":{
      
     },
     "output_type":"display_data"
    }
   ],
   "metadata":{
    "datalore":{
     "node_id":"TFB5pmbDVxmmVMPQBkCESc",
     "type":"CODE",
     "hide_input_from_viewers":true,
     "hide_output_from_viewers":true,
     "report_properties":{
      
     }
    }
   }
  },
  {
   "cell_type":"code",
   "source":[
    "#Print result\n",
    "print(\"------------- top 10 popular products in terms of total sales during 2019-2020 -------------\")\n",
    "df_topsale"
   ],
   "execution_count":39,
   "outputs":[
    {
     "name":"stdout",
     "text":[
      "------------- top 10 popular products in terms of total sales during 2019-2020 -------------\n"
     ],
     "output_type":"stream"
    },
    {
     "data":{
      "text\/html":[
       "<div>\n",
       "<style scoped>\n",
       "    .dataframe tbody tr th:only-of-type {\n",
       "        vertical-align: middle;\n",
       "    }\n",
       "\n",
       "    .dataframe tbody tr th {\n",
       "        vertical-align: top;\n",
       "    }\n",
       "\n",
       "    .dataframe thead th {\n",
       "        text-align: right;\n",
       "    }\n",
       "<\/style>\n",
       "<table border=\"1\" class=\"dataframe\">\n",
       "  <thead>\n",
       "    <tr style=\"text-align: right;\">\n",
       "      <th><\/th>\n",
       "      <th>Product ID<\/th>\n",
       "      <th>Product Name<\/th>\n",
       "      <th>Sales<\/th>\n",
       "    <\/tr>\n",
       "  <\/thead>\n",
       "  <tbody>\n",
       "    <tr>\n",
       "      <th>1563<\/th>\n",
       "      <td>TEC-CO-10004722<\/td>\n",
       "      <td>Canon imageCLASS 2200 Advanced Copier<\/td>\n",
       "      <td>61599.824<\/td>\n",
       "    <\/tr>\n",
       "    <tr>\n",
       "      <th>1554<\/th>\n",
       "      <td>TEC-CO-10001449<\/td>\n",
       "      <td>Hewlett Packard LaserJet 3310 Copier<\/td>\n",
       "      <td>16079.732<\/td>\n",
       "    <\/tr>\n",
       "    <tr>\n",
       "      <th>1575<\/th>\n",
       "      <td>TEC-MA-10001047<\/td>\n",
       "      <td>3D Systems Cube Printer, 2nd Generation, Magenta<\/td>\n",
       "      <td>14299.890<\/td>\n",
       "    <\/tr>\n",
       "    <tr>\n",
       "      <th>633<\/th>\n",
       "      <td>OFF-BI-10000545<\/td>\n",
       "      <td>GBC Ibimaster 500 Manual ProClick Binding System<\/td>\n",
       "      <td>13621.542<\/td>\n",
       "    <\/tr>\n",
       "    <tr>\n",
       "      <th>667<\/th>\n",
       "      <td>OFF-BI-10001359<\/td>\n",
       "      <td>GBC DocuBind TL300 Electric Binding System<\/td>\n",
       "      <td>12737.258<\/td>\n",
       "    <\/tr>\n",
       "    <tr>\n",
       "      <th>822<\/th>\n",
       "      <td>OFF-BI-10004995<\/td>\n",
       "      <td>GBC DocuBind P400 Electric Binding System<\/td>\n",
       "      <td>12521.108<\/td>\n",
       "    <\/tr>\n",
       "    <tr>\n",
       "      <th>1653<\/th>\n",
       "      <td>TEC-PH-10001459<\/td>\n",
       "      <td>Samsung Galaxy Mega 6.3<\/td>\n",
       "      <td>12263.708<\/td>\n",
       "    <\/tr>\n",
       "    <tr>\n",
       "      <th>79<\/th>\n",
       "      <td>FUR-CH-10002024<\/td>\n",
       "      <td>HON 5400 Series Task Chairs for Big and Tall<\/td>\n",
       "      <td>11846.562<\/td>\n",
       "    <\/tr>\n",
       "    <tr>\n",
       "      <th>1402<\/th>\n",
       "      <td>OFF-SU-10002881<\/td>\n",
       "      <td>Martin Yale Chadless Opener Electric Letter Op...<\/td>\n",
       "      <td>11825.902<\/td>\n",
       "    <\/tr>\n",
       "    <tr>\n",
       "      <th>66<\/th>\n",
       "      <td>FUR-CH-10001215<\/td>\n",
       "      <td>Global Troy Executive Leather Low-Back Tilter<\/td>\n",
       "      <td>10169.894<\/td>\n",
       "    <\/tr>\n",
       "  <\/tbody>\n",
       "<\/table>\n",
       "<\/div>"
      ]
     },
     "metadata":{
      
     },
     "output_type":"display_data"
    }
   ],
   "metadata":{
    "datalore":{
     "node_id":"6l9wbjGITQE43TH8ag0Tek",
     "type":"CODE",
     "hide_input_from_viewers":true,
     "hide_output_from_viewers":true,
     "report_properties":{
      
     }
    }
   }
  },
  {
   "cell_type":"code",
   "source":[
    "# TODO 10 - plot at least 2 plots, any plot you think interesting :)"
   ],
   "execution_count":null,
   "outputs":[
    
   ],
   "metadata":{
    "datalore":{
     "node_id":"izGqTEcRUHblUgR87qfHMz",
     "type":"CODE",
     "hide_input_from_viewers":false,
     "hide_output_from_viewers":false,
     "report_properties":{
      "y":94
     }
    }
   }
  },
  {
   "cell_type":"markdown",
   "source":[
    "**#1: Trend profit by customer segment during 2017-2020**"
   ],
   "attachments":{
    
   },
   "metadata":{
    "datalore":{
     "node_id":"tteXkT145ifdLuxKoV4AO6",
     "type":"MD",
     "hide_input_from_viewers":true,
     "hide_output_from_viewers":true,
     "report_properties":{
      
     }
    }
   }
  },
  {
   "cell_type":"code",
   "source":[
    "df['year'] =  df['Order Date'].dt.strftime('%Y')  # Create year columns use to group by\n",
    "df_result = df[['Profit','Segment','year']].groupby(['year','Segment']).sum().reset_index()\n",
    "# Plot\n",
    "df_result.set_index('year', inplace=True)\n",
    "ax = df_result.groupby('Segment')['Profit'].plot(title='Trend profit by customer segment during 2107-2020',legend=True)"
   ],
   "execution_count":40,
   "outputs":[
    {
     "data":{
      "image\/png":"[encoded data removed]"
     },
     "metadata":{
      "image\/png":{
       
      }
     },
     "output_type":"display_data"
    }
   ],
   "metadata":{
    "datalore":{
     "node_id":"w7Clq18W73JCAfAdNsZNnj",
     "type":"CODE",
     "hide_input_from_viewers":true,
     "hide_output_from_viewers":true,
     "report_properties":{
      
     }
    }
   }
  },
  {
   "cell_type":"markdown",
   "source":[
    "**#2: Trend profit by product category of corporate segment during 2017-2020**"
   ],
   "attachments":{
    
   },
   "metadata":{
    "datalore":{
     "node_id":"rPDlq4YGRznk6KOD6hY2br",
     "type":"MD",
     "hide_input_from_viewers":true,
     "hide_output_from_viewers":true,
     "report_properties":{
      
     }
    }
   }
  },
  {
   "cell_type":"code",
   "source":[
    "ax = df[(df['Segment'] == 'Corporate')] \\\n",
    "            [['Profit','year','Category']].groupby(['year','Category']).sum().unstack(). \\\n",
    "            plot(kind='bar',y='Profit',title = 'Trend profit by product category of corporate segment during 2017-2020')"
   ],
   "execution_count":41,
   "outputs":[
    {
     "data":{
      "image\/png":"[encoded data removed]"
     },
     "metadata":{
      "image\/png":{
       
      }
     },
     "output_type":"display_data"
    }
   ],
   "metadata":{
    "datalore":{
     "node_id":"Lu63S202mz5cQtnvDFTrXI",
     "type":"CODE",
     "hide_input_from_viewers":true,
     "hide_output_from_viewers":true,
     "report_properties":{
      
     }
    }
   }
  },
  {
   "cell_type":"code",
   "source":[
    "# TODO Bonus - use np.where() to create new column in dataframe to help you answer your own questions"
   ],
   "execution_count":null,
   "outputs":[
    
   ],
   "metadata":{
    "datalore":{
     "node_id":"4TeuMLOxT6J2hQhengaTAX",
     "type":"CODE",
     "hide_input_from_viewers":false,
     "hide_output_from_viewers":false,
     "report_properties":{
      "y":97
     }
    }
   }
  },
  {
   "cell_type":"markdown",
   "source":[
    "**Product that sale with big lot (big lot > dozen)**"
   ],
   "attachments":{
    
   },
   "metadata":{
    "datalore":{
     "node_id":"X0pP3VkVKRZQZwEpiuqhwD",
     "type":"MD",
     "hide_input_from_viewers":true,
     "hide_output_from_viewers":true,
     "report_properties":{
      
     }
    }
   }
  },
  {
   "cell_type":"code",
   "source":[
    "import numpy as np"
   ],
   "execution_count":45,
   "outputs":[
    
   ],
   "metadata":{
    "datalore":{
     "node_id":"raMr0nKFtC3epGDbP2SDv3",
     "type":"CODE",
     "hide_input_from_viewers":true,
     "hide_output_from_viewers":true,
     "report_properties":{
      
     }
    }
   }
  },
  {
   "cell_type":"code",
   "source":[
    "df['Big Lot Sale'] = np.where(\n",
    "    df['Quantity'] > 12, \n",
    "    True, \n",
    "    False\n",
    ")"
   ],
   "execution_count":46,
   "outputs":[
    
   ],
   "metadata":{
    "datalore":{
     "node_id":"CIrWP57FWeF9mEpNfkaxaT",
     "type":"CODE",
     "hide_input_from_viewers":true,
     "hide_output_from_viewers":true,
     "report_properties":{
      
     }
    }
   }
  },
  {
   "cell_type":"code",
   "source":[
    "df[df['Big Lot Sale'] == True][['Category','Product Name','Quantity']].groupby(['Category','Product Name']).max().reset_index() \\\n",
    "              .sort_values(by=['Category','Quantity'] , ascending=False)"
   ],
   "execution_count":47,
   "outputs":[
    {
     "data":{
      "text\/html":[
       "<div>\n",
       "<style scoped>\n",
       "    .dataframe tbody tr th:only-of-type {\n",
       "        vertical-align: middle;\n",
       "    }\n",
       "\n",
       "    .dataframe tbody tr th {\n",
       "        vertical-align: top;\n",
       "    }\n",
       "\n",
       "    .dataframe thead th {\n",
       "        text-align: right;\n",
       "    }\n",
       "<\/style>\n",
       "<table border=\"1\" class=\"dataframe\">\n",
       "  <thead>\n",
       "    <tr style=\"text-align: right;\">\n",
       "      <th><\/th>\n",
       "      <th>Category<\/th>\n",
       "      <th>Product Name<\/th>\n",
       "      <th>Quantity<\/th>\n",
       "    <\/tr>\n",
       "  <\/thead>\n",
       "  <tbody>\n",
       "    <tr>\n",
       "      <th>45<\/th>\n",
       "      <td>Technology<\/td>\n",
       "      <td>Anker Ultra-Slim Mini Bluetooth 3.0 Wireless K...<\/td>\n",
       "      <td>14<\/td>\n",
       "    <\/tr>\n",
       "    <tr>\n",
       "      <th>46<\/th>\n",
       "      <td>Technology<\/td>\n",
       "      <td>Logitech Wireless Headset h800<\/td>\n",
       "      <td>14<\/td>\n",
       "    <\/tr>\n",
       "    <tr>\n",
       "      <th>50<\/th>\n",
       "      <td>Technology<\/td>\n",
       "      <td>Memorex Mini Travel Drive 16 GB USB 2.0 Flash ...<\/td>\n",
       "      <td>14<\/td>\n",
       "    <\/tr>\n",
       "    <tr>\n",
       "      <th>51<\/th>\n",
       "      <td>Technology<\/td>\n",
       "      <td>Plantronics Voyager Pro HD - Bluetooth Headset<\/td>\n",
       "      <td>14<\/td>\n",
       "    <\/tr>\n",
       "    <tr>\n",
       "      <th>52<\/th>\n",
       "      <td>Technology<\/td>\n",
       "      <td>PureGear Roll-On Screen Protector<\/td>\n",
       "      <td>14<\/td>\n",
       "    <\/tr>\n",
       "    <tr>\n",
       "      <th>53<\/th>\n",
       "      <td>Technology<\/td>\n",
       "      <td>Pyle PMP37LED<\/td>\n",
       "      <td>14<\/td>\n",
       "    <\/tr>\n",
       "    <tr>\n",
       "      <th>47<\/th>\n",
       "      <td>Technology<\/td>\n",
       "      <td>Logitech P710e Mobile Speakerphone<\/td>\n",
       "      <td>13<\/td>\n",
       "    <\/tr>\n",
       "    <tr>\n",
       "      <th>48<\/th>\n",
       "      <td>Technology<\/td>\n",
       "      <td>Macally Suction Cup Mount<\/td>\n",
       "      <td>13<\/td>\n",
       "    <\/tr>\n",
       "    <tr>\n",
       "      <th>49<\/th>\n",
       "      <td>Technology<\/td>\n",
       "      <td>Maxell 74 Minute CD-R Spindle, 50\/Pack<\/td>\n",
       "      <td>13<\/td>\n",
       "    <\/tr>\n",
       "    <tr>\n",
       "      <th>54<\/th>\n",
       "      <td>Technology<\/td>\n",
       "      <td>Samsung Galaxy Mega 6.3<\/td>\n",
       "      <td>13<\/td>\n",
       "    <\/tr>\n",
       "    <tr>\n",
       "      <th>13<\/th>\n",
       "      <td>Office Supplies<\/td>\n",
       "      <td>Acco 7-Outlet Masterpiece Power Center, Wihtou...<\/td>\n",
       "      <td>14<\/td>\n",
       "    <\/tr>\n",
       "    <tr>\n",
       "      <th>14<\/th>\n",
       "      <td>Office Supplies<\/td>\n",
       "      <td>Avery 4027 File Folder Labels for Dot Matrix P...<\/td>\n",
       "      <td>14<\/td>\n",
       "    <\/tr>\n",
       "    <tr>\n",
       "      <th>16<\/th>\n",
       "      <td>Office Supplies<\/td>\n",
       "      <td>Cardinal EasyOpen D-Ring Binders<\/td>\n",
       "      <td>14<\/td>\n",
       "    <\/tr>\n",
       "    <tr>\n",
       "      <th>18<\/th>\n",
       "      <td>Office Supplies<\/td>\n",
       "      <td>Eldon ProFile File 'N Store Portable File Tub ...<\/td>\n",
       "      <td>14<\/td>\n",
       "    <\/tr>\n",
       "    <tr>\n",
       "      <th>22<\/th>\n",
       "      <td>Office Supplies<\/td>\n",
       "      <td>Ibico Recycled Linen-Style Covers<\/td>\n",
       "      <td>14<\/td>\n",
       "    <\/tr>\n",
       "    <tr>\n",
       "      <th>27<\/th>\n",
       "      <td>Office Supplies<\/td>\n",
       "      <td>OIC Colored Binder Clips, Assorted Sizes<\/td>\n",
       "      <td>14<\/td>\n",
       "    <\/tr>\n",
       "    <tr>\n",
       "      <th>28<\/th>\n",
       "      <td>Office Supplies<\/td>\n",
       "      <td>Personal Creations Ink Jet Cards and Labels<\/td>\n",
       "      <td>14<\/td>\n",
       "    <\/tr>\n",
       "    <tr>\n",
       "      <th>29<\/th>\n",
       "      <td>Office Supplies<\/td>\n",
       "      <td>Pressboard Covers with Storage Hooks, 9 1\/2\" x...<\/td>\n",
       "      <td>14<\/td>\n",
       "    <\/tr>\n",
       "    <tr>\n",
       "      <th>31<\/th>\n",
       "      <td>Office Supplies<\/td>\n",
       "      <td>Southworth 100% Résumé Paper, 24lb.<\/td>\n",
       "      <td>14<\/td>\n",
       "    <\/tr>\n",
       "    <tr>\n",
       "      <th>33<\/th>\n",
       "      <td>Office Supplies<\/td>\n",
       "      <td>Space Solutions Commercial Steel Shelving<\/td>\n",
       "      <td>14<\/td>\n",
       "    <\/tr>\n",
       "    <tr>\n",
       "      <th>35<\/th>\n",
       "      <td>Office Supplies<\/td>\n",
       "      <td>Staples in misc. colors<\/td>\n",
       "      <td>14<\/td>\n",
       "    <\/tr>\n",
       "    <tr>\n",
       "      <th>38<\/th>\n",
       "      <td>Office Supplies<\/td>\n",
       "      <td>Wilson Jones Clip &amp; Carry Folder Binder Tool f...<\/td>\n",
       "      <td>14<\/td>\n",
       "    <\/tr>\n",
       "    <tr>\n",
       "      <th>40<\/th>\n",
       "      <td>Office Supplies<\/td>\n",
       "      <td>Wilson Jones Turn Tabs Binder Tool for Ring Bi...<\/td>\n",
       "      <td>14<\/td>\n",
       "    <\/tr>\n",
       "    <tr>\n",
       "      <th>41<\/th>\n",
       "      <td>Office Supplies<\/td>\n",
       "      <td>Xerox 1883<\/td>\n",
       "      <td>14<\/td>\n",
       "    <\/tr>\n",
       "    <tr>\n",
       "      <th>44<\/th>\n",
       "      <td>Office Supplies<\/td>\n",
       "      <td>Xerox 1964<\/td>\n",
       "      <td>14<\/td>\n",
       "    <\/tr>\n",
       "    <tr>\n",
       "      <th>15<\/th>\n",
       "      <td>Office Supplies<\/td>\n",
       "      <td>Avery 485<\/td>\n",
       "      <td>13<\/td>\n",
       "    <\/tr>\n",
       "    <tr>\n",
       "      <th>17<\/th>\n",
       "      <td>Office Supplies<\/td>\n",
       "      <td>DXL Angle-View Binders with Locking Rings, Black<\/td>\n",
       "      <td>13<\/td>\n",
       "    <\/tr>\n",
       "    <tr>\n",
       "      <th>19<\/th>\n",
       "      <td>Office Supplies<\/td>\n",
       "      <td>Fellowes Binding Cases<\/td>\n",
       "      <td>13<\/td>\n",
       "    <\/tr>\n",
       "    <tr>\n",
       "      <th>20<\/th>\n",
       "      <td>Office Supplies<\/td>\n",
       "      <td>GBC Ibimaster 500 Manual ProClick Binding System<\/td>\n",
       "      <td>13<\/td>\n",
       "    <\/tr>\n",
       "    <tr>\n",
       "      <th>21<\/th>\n",
       "      <td>Office Supplies<\/td>\n",
       "      <td>Great White Multi-Use Recycled Paper (20Lb. an...<\/td>\n",
       "      <td>13<\/td>\n",
       "    <\/tr>\n",
       "    <tr>\n",
       "      <th>23<\/th>\n",
       "      <td>Office Supplies<\/td>\n",
       "      <td>Iceberg Mobile Mega Data\/Printer Cart<\/td>\n",
       "      <td>13<\/td>\n",
       "    <\/tr>\n",
       "    <tr>\n",
       "      <th>24<\/th>\n",
       "      <td>Office Supplies<\/td>\n",
       "      <td>Kensington 4 Outlet MasterPiece Compact Power ...<\/td>\n",
       "      <td>13<\/td>\n",
       "    <\/tr>\n",
       "    <tr>\n",
       "      <th>25<\/th>\n",
       "      <td>Office Supplies<\/td>\n",
       "      <td>Kensington 7 Outlet MasterPiece HOMEOFFICE Pow...<\/td>\n",
       "      <td>13<\/td>\n",
       "    <\/tr>\n",
       "    <tr>\n",
       "      <th>26<\/th>\n",
       "      <td>Office Supplies<\/td>\n",
       "      <td>Lock-Up Easel 'Spel-Binder'<\/td>\n",
       "      <td>13<\/td>\n",
       "    <\/tr>\n",
       "    <tr>\n",
       "      <th>30<\/th>\n",
       "      <td>Office Supplies<\/td>\n",
       "      <td>SlimView Poly Binder, 3\/8\"<\/td>\n",
       "      <td>13<\/td>\n",
       "    <\/tr>\n",
       "    <tr>\n",
       "      <th>32<\/th>\n",
       "      <td>Office Supplies<\/td>\n",
       "      <td>Southworth 25% Cotton Premium Laser Paper and ...<\/td>\n",
       "      <td>13<\/td>\n",
       "    <\/tr>\n",
       "    <tr>\n",
       "      <th>34<\/th>\n",
       "      <td>Office Supplies<\/td>\n",
       "      <td>Staples<\/td>\n",
       "      <td>13<\/td>\n",
       "    <\/tr>\n",
       "    <tr>\n",
       "      <th>36<\/th>\n",
       "      <td>Office Supplies<\/td>\n",
       "      <td>Storex Dura Pro Binders<\/td>\n",
       "      <td>13<\/td>\n",
       "    <\/tr>\n",
       "    <tr>\n",
       "      <th>37<\/th>\n",
       "      <td>Office Supplies<\/td>\n",
       "      <td>Trimflex Flexible Post Binders<\/td>\n",
       "      <td>13<\/td>\n",
       "    <\/tr>\n",
       "    <tr>\n",
       "      <th>39<\/th>\n",
       "      <td>Office Supplies<\/td>\n",
       "      <td>Wilson Jones Elliptical Ring 3 1\/2\" Capacity B...<\/td>\n",
       "      <td>13<\/td>\n",
       "    <\/tr>\n",
       "    <tr>\n",
       "      <th>42<\/th>\n",
       "      <td>Office Supplies<\/td>\n",
       "      <td>Xerox 1951<\/td>\n",
       "      <td>13<\/td>\n",
       "    <\/tr>\n",
       "    <tr>\n",
       "      <th>43<\/th>\n",
       "      <td>Office Supplies<\/td>\n",
       "      <td>Xerox 1952<\/td>\n",
       "      <td>13<\/td>\n",
       "    <\/tr>\n",
       "    <tr>\n",
       "      <th>2<\/th>\n",
       "      <td>Furniture<\/td>\n",
       "      <td>DAX Wood Document Frame<\/td>\n",
       "      <td>14<\/td>\n",
       "    <\/tr>\n",
       "    <tr>\n",
       "      <th>3<\/th>\n",
       "      <td>Furniture<\/td>\n",
       "      <td>Electrix Architect's Clamp-On Swing Arm Lamp, ...<\/td>\n",
       "      <td>14<\/td>\n",
       "    <\/tr>\n",
       "    <tr>\n",
       "      <th>5<\/th>\n",
       "      <td>Furniture<\/td>\n",
       "      <td>Global Push Button Manager's Chair, Indigo<\/td>\n",
       "      <td>14<\/td>\n",
       "    <\/tr>\n",
       "    <tr>\n",
       "      <th>6<\/th>\n",
       "      <td>Furniture<\/td>\n",
       "      <td>Global Stack Chair without Arms, Black<\/td>\n",
       "      <td>14<\/td>\n",
       "    <\/tr>\n",
       "    <tr>\n",
       "      <th>7<\/th>\n",
       "      <td>Furniture<\/td>\n",
       "      <td>High-Back Leather Manager's Chair<\/td>\n",
       "      <td>14<\/td>\n",
       "    <\/tr>\n",
       "    <tr>\n",
       "      <th>8<\/th>\n",
       "      <td>Furniture<\/td>\n",
       "      <td>Longer-Life Soft White Bulbs<\/td>\n",
       "      <td>14<\/td>\n",
       "    <\/tr>\n",
       "    <tr>\n",
       "      <th>9<\/th>\n",
       "      <td>Furniture<\/td>\n",
       "      <td>Metal Folding Chairs, Beige, 4\/Carton<\/td>\n",
       "      <td>14<\/td>\n",
       "    <\/tr>\n",
       "    <tr>\n",
       "      <th>12<\/th>\n",
       "      <td>Furniture<\/td>\n",
       "      <td>Ultra Door Push Plate<\/td>\n",
       "      <td>14<\/td>\n",
       "    <\/tr>\n",
       "    <tr>\n",
       "      <th>0<\/th>\n",
       "      <td>Furniture<\/td>\n",
       "      <td>Bevis 36 x 72 Conference Tables<\/td>\n",
       "      <td>13<\/td>\n",
       "    <\/tr>\n",
       "    <tr>\n",
       "      <th>1<\/th>\n",
       "      <td>Furniture<\/td>\n",
       "      <td>Chromcraft Bull-Nose Wood Oval Conference Tabl...<\/td>\n",
       "      <td>13<\/td>\n",
       "    <\/tr>\n",
       "    <tr>\n",
       "      <th>4<\/th>\n",
       "      <td>Furniture<\/td>\n",
       "      <td>Executive Impressions Supervisor Wall Clock<\/td>\n",
       "      <td>13<\/td>\n",
       "    <\/tr>\n",
       "    <tr>\n",
       "      <th>10<\/th>\n",
       "      <td>Furniture<\/td>\n",
       "      <td>O'Sullivan 4-Shelf Bookcase in Odessa Pine<\/td>\n",
       "      <td>13<\/td>\n",
       "    <\/tr>\n",
       "    <tr>\n",
       "      <th>11<\/th>\n",
       "      <td>Furniture<\/td>\n",
       "      <td>Safco Chair Connectors, 6\/Carton<\/td>\n",
       "      <td>13<\/td>\n",
       "    <\/tr>\n",
       "  <\/tbody>\n",
       "<\/table>\n",
       "<\/div>"
      ]
     },
     "metadata":{
      
     },
     "output_type":"display_data"
    }
   ],
   "metadata":{
    "datalore":{
     "node_id":"nSnIA4D2uVA3OBLc0WBgzh",
     "type":"CODE",
     "hide_input_from_viewers":true,
     "hide_output_from_viewers":true,
     "report_properties":{
      
     }
    }
   }
  }
 ],
 "metadata":{
  "kernelspec":{
   "display_name":"Python",
   "language":"python",
   "name":"python"
  },
  "datalore":{
   "version":1,
   "computation_mode":"JUPYTER",
   "package_manager":"pip",
   "base_environment":"default",
   "packages":[
    
   ]
  }
 },
 "nbformat":4,
 "nbformat_minor":4
}